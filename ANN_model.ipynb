{
 "cells": [
  {
   "cell_type": "code",
   "execution_count": 1,
   "metadata": {},
   "outputs": [],
   "source": [
    "import pandas as pd\n",
    "\n",
    "import numpy as np\n",
    "\n",
    "df = pd.read_csv('ML-EdgeIIoT-dataset.csv', low_memory=False)"
   ]
  },
  {
   "cell_type": "code",
   "execution_count": 2,
   "metadata": {},
   "outputs": [
    {
     "name": "stdout",
     "output_type": "stream",
     "text": [
      "Normal                   24301\n",
      "DDoS_UDP                 14498\n",
      "DDoS_ICMP                14090\n",
      "Ransomware               10925\n",
      "DDoS_HTTP                10561\n",
      "SQL_injection            10311\n",
      "Uploading                10269\n",
      "DDoS_TCP                 10247\n",
      "Backdoor                 10195\n",
      "Vulnerability_scanner    10076\n",
      "Port_Scanning            10071\n",
      "XSS                      10052\n",
      "Password                  9989\n",
      "MITM                      1214\n",
      "Fingerprinting            1001\n",
      "Name: Attack_type, dtype: int64\n"
     ]
    }
   ],
   "source": [
    "df.head(5)\n",
    "\n",
    "print(df['Attack_type'].value_counts())"
   ]
  },
  {
   "cell_type": "code",
   "execution_count": 3,
   "metadata": {},
   "outputs": [
    {
     "name": "stdout",
     "output_type": "stream",
     "text": [
      "Normal                   24101\n",
      "DDoS_UDP                 14498\n",
      "DDoS_ICMP                13096\n",
      "DDoS_HTTP                10495\n",
      "SQL_injection            10282\n",
      "DDoS_TCP                 10247\n",
      "Uploading                10214\n",
      "Vulnerability_scanner    10062\n",
      "Password                  9972\n",
      "Backdoor                  9865\n",
      "Ransomware                9689\n",
      "XSS                       9543\n",
      "Port_Scanning             8921\n",
      "Fingerprinting             853\n",
      "MITM                       358\n",
      "Name: Attack_type, dtype: int64\n"
     ]
    }
   ],
   "source": [
    "from sklearn.utils import shuffle\n",
    "\n",
    "drop_columns = [\"frame.time\", \"ip.src_host\", \"ip.dst_host\", \"arp.src.proto_ipv4\",\"arp.dst.proto_ipv4\", \n",
    "\n",
    "         \"http.file_data\",\"http.request.full_uri\",\"icmp.transmit_timestamp\",\n",
    "\n",
    "         \"http.request.uri.query\", \"tcp.options\",\"tcp.payload\",\"tcp.srcport\",\n",
    "\n",
    "         \"tcp.dstport\", \"udp.port\", \"mqtt.msg\"]\n",
    "\n",
    "df.drop(drop_columns, axis=1, inplace=True)\n",
    "\n",
    "df.dropna(axis=0, how='any', inplace=True)\n",
    "\n",
    "df.drop_duplicates(subset=None, keep=\"first\", inplace=True)\n",
    "\n",
    "df = shuffle(df)\n",
    "\n",
    "df.isna().sum()\n",
    "\n",
    "print(df['Attack_type'].value_counts())"
   ]
  },
  {
   "cell_type": "code",
   "execution_count": 4,
   "metadata": {},
   "outputs": [],
   "source": [
    "import numpy as np\n",
    "\n",
    "from sklearn.model_selection import train_test_split\n",
    "\n",
    "from sklearn.preprocessing import StandardScaler\n",
    "\n",
    "from sklearn import preprocessing\n",
    "\n",
    "def encode_text_dummy(df, name):\n",
    "\n",
    "    dummies = pd.get_dummies(df[name])\n",
    "\n",
    "    for x in dummies.columns:\n",
    "\n",
    "        dummy_name = f\"{name}-{x}\"\n",
    "\n",
    "        df[dummy_name] = dummies[x]\n",
    "\n",
    "    df.drop(name, axis=1, inplace=True)\n",
    "\n",
    "encode_text_dummy(df,'http.request.method')\n",
    "\n",
    "encode_text_dummy(df,'http.referer')\n",
    "\n",
    "encode_text_dummy(df,\"http.request.version\")\n",
    "\n",
    "encode_text_dummy(df,\"dns.qry.name.len\")\n",
    "\n",
    "encode_text_dummy(df,\"mqtt.conack.flags\")\n",
    "\n",
    "encode_text_dummy(df,\"mqtt.protoname\")\n",
    "\n",
    "encode_text_dummy(df,\"mqtt.topic\")"
   ]
  },
  {
   "cell_type": "code",
   "execution_count": 5,
   "metadata": {},
   "outputs": [
    {
     "data": {
      "text/html": [
       "<div>\n",
       "<style scoped>\n",
       "    .dataframe tbody tr th:only-of-type {\n",
       "        vertical-align: middle;\n",
       "    }\n",
       "\n",
       "    .dataframe tbody tr th {\n",
       "        vertical-align: top;\n",
       "    }\n",
       "\n",
       "    .dataframe thead th {\n",
       "        text-align: right;\n",
       "    }\n",
       "</style>\n",
       "<table border=\"1\" class=\"dataframe\">\n",
       "  <thead>\n",
       "    <tr style=\"text-align: right;\">\n",
       "      <th></th>\n",
       "      <th>arp.opcode</th>\n",
       "      <th>arp.hw.size</th>\n",
       "      <th>icmp.checksum</th>\n",
       "      <th>icmp.seq_le</th>\n",
       "      <th>icmp.unused</th>\n",
       "      <th>http.content_length</th>\n",
       "      <th>http.response</th>\n",
       "      <th>http.tls_port</th>\n",
       "      <th>tcp.ack</th>\n",
       "      <th>tcp.ack_raw</th>\n",
       "      <th>...</th>\n",
       "      <th>dns.qry.name.len-_googlecast._tcp.local</th>\n",
       "      <th>mqtt.conack.flags-0</th>\n",
       "      <th>mqtt.conack.flags-0.0</th>\n",
       "      <th>mqtt.conack.flags-0x00000000</th>\n",
       "      <th>mqtt.protoname-0</th>\n",
       "      <th>mqtt.protoname-0.0</th>\n",
       "      <th>mqtt.protoname-MQTT</th>\n",
       "      <th>mqtt.topic-0</th>\n",
       "      <th>mqtt.topic-0.0</th>\n",
       "      <th>mqtt.topic-Temperature_and_Humidity</th>\n",
       "    </tr>\n",
       "  </thead>\n",
       "  <tbody>\n",
       "    <tr>\n",
       "      <th>54750</th>\n",
       "      <td>0.0</td>\n",
       "      <td>0.0</td>\n",
       "      <td>0.0</td>\n",
       "      <td>0.0</td>\n",
       "      <td>0.0</td>\n",
       "      <td>0.0</td>\n",
       "      <td>0.0</td>\n",
       "      <td>0.0</td>\n",
       "      <td>2.610000e+02</td>\n",
       "      <td>3.537984e+09</td>\n",
       "      <td>...</td>\n",
       "      <td>0</td>\n",
       "      <td>0</td>\n",
       "      <td>1</td>\n",
       "      <td>0</td>\n",
       "      <td>0</td>\n",
       "      <td>1</td>\n",
       "      <td>0</td>\n",
       "      <td>0</td>\n",
       "      <td>1</td>\n",
       "      <td>0</td>\n",
       "    </tr>\n",
       "    <tr>\n",
       "      <th>44691</th>\n",
       "      <td>0.0</td>\n",
       "      <td>0.0</td>\n",
       "      <td>0.0</td>\n",
       "      <td>0.0</td>\n",
       "      <td>0.0</td>\n",
       "      <td>0.0</td>\n",
       "      <td>0.0</td>\n",
       "      <td>0.0</td>\n",
       "      <td>1.458321e+09</td>\n",
       "      <td>1.458321e+09</td>\n",
       "      <td>...</td>\n",
       "      <td>0</td>\n",
       "      <td>0</td>\n",
       "      <td>1</td>\n",
       "      <td>0</td>\n",
       "      <td>0</td>\n",
       "      <td>1</td>\n",
       "      <td>0</td>\n",
       "      <td>0</td>\n",
       "      <td>1</td>\n",
       "      <td>0</td>\n",
       "    </tr>\n",
       "    <tr>\n",
       "      <th>82590</th>\n",
       "      <td>0.0</td>\n",
       "      <td>0.0</td>\n",
       "      <td>0.0</td>\n",
       "      <td>0.0</td>\n",
       "      <td>0.0</td>\n",
       "      <td>36.0</td>\n",
       "      <td>0.0</td>\n",
       "      <td>0.0</td>\n",
       "      <td>1.435700e+04</td>\n",
       "      <td>1.368347e+08</td>\n",
       "      <td>...</td>\n",
       "      <td>0</td>\n",
       "      <td>0</td>\n",
       "      <td>1</td>\n",
       "      <td>0</td>\n",
       "      <td>0</td>\n",
       "      <td>1</td>\n",
       "      <td>0</td>\n",
       "      <td>0</td>\n",
       "      <td>1</td>\n",
       "      <td>0</td>\n",
       "    </tr>\n",
       "    <tr>\n",
       "      <th>75875</th>\n",
       "      <td>0.0</td>\n",
       "      <td>0.0</td>\n",
       "      <td>0.0</td>\n",
       "      <td>0.0</td>\n",
       "      <td>0.0</td>\n",
       "      <td>0.0</td>\n",
       "      <td>0.0</td>\n",
       "      <td>0.0</td>\n",
       "      <td>4.519400e+04</td>\n",
       "      <td>1.588869e+09</td>\n",
       "      <td>...</td>\n",
       "      <td>0</td>\n",
       "      <td>0</td>\n",
       "      <td>1</td>\n",
       "      <td>0</td>\n",
       "      <td>0</td>\n",
       "      <td>1</td>\n",
       "      <td>0</td>\n",
       "      <td>0</td>\n",
       "      <td>1</td>\n",
       "      <td>0</td>\n",
       "    </tr>\n",
       "    <tr>\n",
       "      <th>116271</th>\n",
       "      <td>0.0</td>\n",
       "      <td>0.0</td>\n",
       "      <td>0.0</td>\n",
       "      <td>0.0</td>\n",
       "      <td>0.0</td>\n",
       "      <td>0.0</td>\n",
       "      <td>0.0</td>\n",
       "      <td>0.0</td>\n",
       "      <td>0.000000e+00</td>\n",
       "      <td>0.000000e+00</td>\n",
       "      <td>...</td>\n",
       "      <td>0</td>\n",
       "      <td>1</td>\n",
       "      <td>0</td>\n",
       "      <td>0</td>\n",
       "      <td>1</td>\n",
       "      <td>0</td>\n",
       "      <td>0</td>\n",
       "      <td>1</td>\n",
       "      <td>0</td>\n",
       "      <td>0</td>\n",
       "    </tr>\n",
       "    <tr>\n",
       "      <th>...</th>\n",
       "      <td>...</td>\n",
       "      <td>...</td>\n",
       "      <td>...</td>\n",
       "      <td>...</td>\n",
       "      <td>...</td>\n",
       "      <td>...</td>\n",
       "      <td>...</td>\n",
       "      <td>...</td>\n",
       "      <td>...</td>\n",
       "      <td>...</td>\n",
       "      <td>...</td>\n",
       "      <td>...</td>\n",
       "      <td>...</td>\n",
       "      <td>...</td>\n",
       "      <td>...</td>\n",
       "      <td>...</td>\n",
       "      <td>...</td>\n",
       "      <td>...</td>\n",
       "      <td>...</td>\n",
       "      <td>...</td>\n",
       "      <td>...</td>\n",
       "    </tr>\n",
       "    <tr>\n",
       "      <th>109524</th>\n",
       "      <td>0.0</td>\n",
       "      <td>0.0</td>\n",
       "      <td>0.0</td>\n",
       "      <td>0.0</td>\n",
       "      <td>0.0</td>\n",
       "      <td>0.0</td>\n",
       "      <td>0.0</td>\n",
       "      <td>0.0</td>\n",
       "      <td>5.900000e+01</td>\n",
       "      <td>1.006093e+09</td>\n",
       "      <td>...</td>\n",
       "      <td>0</td>\n",
       "      <td>1</td>\n",
       "      <td>0</td>\n",
       "      <td>0</td>\n",
       "      <td>1</td>\n",
       "      <td>0</td>\n",
       "      <td>0</td>\n",
       "      <td>1</td>\n",
       "      <td>0</td>\n",
       "      <td>0</td>\n",
       "    </tr>\n",
       "    <tr>\n",
       "      <th>22421</th>\n",
       "      <td>0.0</td>\n",
       "      <td>0.0</td>\n",
       "      <td>0.0</td>\n",
       "      <td>0.0</td>\n",
       "      <td>0.0</td>\n",
       "      <td>0.0</td>\n",
       "      <td>0.0</td>\n",
       "      <td>0.0</td>\n",
       "      <td>0.000000e+00</td>\n",
       "      <td>0.000000e+00</td>\n",
       "      <td>...</td>\n",
       "      <td>0</td>\n",
       "      <td>0</td>\n",
       "      <td>1</td>\n",
       "      <td>0</td>\n",
       "      <td>0</td>\n",
       "      <td>1</td>\n",
       "      <td>0</td>\n",
       "      <td>0</td>\n",
       "      <td>1</td>\n",
       "      <td>0</td>\n",
       "    </tr>\n",
       "    <tr>\n",
       "      <th>46674</th>\n",
       "      <td>0.0</td>\n",
       "      <td>0.0</td>\n",
       "      <td>0.0</td>\n",
       "      <td>0.0</td>\n",
       "      <td>0.0</td>\n",
       "      <td>0.0</td>\n",
       "      <td>0.0</td>\n",
       "      <td>0.0</td>\n",
       "      <td>1.210000e+02</td>\n",
       "      <td>1.840877e+09</td>\n",
       "      <td>...</td>\n",
       "      <td>0</td>\n",
       "      <td>0</td>\n",
       "      <td>1</td>\n",
       "      <td>0</td>\n",
       "      <td>0</td>\n",
       "      <td>1</td>\n",
       "      <td>0</td>\n",
       "      <td>0</td>\n",
       "      <td>1</td>\n",
       "      <td>0</td>\n",
       "    </tr>\n",
       "    <tr>\n",
       "      <th>43737</th>\n",
       "      <td>0.0</td>\n",
       "      <td>0.0</td>\n",
       "      <td>0.0</td>\n",
       "      <td>0.0</td>\n",
       "      <td>0.0</td>\n",
       "      <td>0.0</td>\n",
       "      <td>0.0</td>\n",
       "      <td>0.0</td>\n",
       "      <td>1.000000e+00</td>\n",
       "      <td>3.434128e+09</td>\n",
       "      <td>...</td>\n",
       "      <td>0</td>\n",
       "      <td>0</td>\n",
       "      <td>1</td>\n",
       "      <td>0</td>\n",
       "      <td>0</td>\n",
       "      <td>1</td>\n",
       "      <td>0</td>\n",
       "      <td>0</td>\n",
       "      <td>1</td>\n",
       "      <td>0</td>\n",
       "    </tr>\n",
       "    <tr>\n",
       "      <th>86759</th>\n",
       "      <td>0.0</td>\n",
       "      <td>0.0</td>\n",
       "      <td>0.0</td>\n",
       "      <td>0.0</td>\n",
       "      <td>0.0</td>\n",
       "      <td>0.0</td>\n",
       "      <td>0.0</td>\n",
       "      <td>0.0</td>\n",
       "      <td>0.000000e+00</td>\n",
       "      <td>0.000000e+00</td>\n",
       "      <td>...</td>\n",
       "      <td>0</td>\n",
       "      <td>0</td>\n",
       "      <td>1</td>\n",
       "      <td>0</td>\n",
       "      <td>0</td>\n",
       "      <td>1</td>\n",
       "      <td>0</td>\n",
       "      <td>0</td>\n",
       "      <td>1</td>\n",
       "      <td>0</td>\n",
       "    </tr>\n",
       "  </tbody>\n",
       "</table>\n",
       "<p>152196 rows × 76 columns</p>\n",
       "</div>"
      ],
      "text/plain": [
       "        arp.opcode  arp.hw.size  icmp.checksum  icmp.seq_le  icmp.unused  \\\n",
       "54750          0.0          0.0            0.0          0.0          0.0   \n",
       "44691          0.0          0.0            0.0          0.0          0.0   \n",
       "82590          0.0          0.0            0.0          0.0          0.0   \n",
       "75875          0.0          0.0            0.0          0.0          0.0   \n",
       "116271         0.0          0.0            0.0          0.0          0.0   \n",
       "...            ...          ...            ...          ...          ...   \n",
       "109524         0.0          0.0            0.0          0.0          0.0   \n",
       "22421          0.0          0.0            0.0          0.0          0.0   \n",
       "46674          0.0          0.0            0.0          0.0          0.0   \n",
       "43737          0.0          0.0            0.0          0.0          0.0   \n",
       "86759          0.0          0.0            0.0          0.0          0.0   \n",
       "\n",
       "        http.content_length  http.response  http.tls_port       tcp.ack  \\\n",
       "54750                   0.0            0.0            0.0  2.610000e+02   \n",
       "44691                   0.0            0.0            0.0  1.458321e+09   \n",
       "82590                  36.0            0.0            0.0  1.435700e+04   \n",
       "75875                   0.0            0.0            0.0  4.519400e+04   \n",
       "116271                  0.0            0.0            0.0  0.000000e+00   \n",
       "...                     ...            ...            ...           ...   \n",
       "109524                  0.0            0.0            0.0  5.900000e+01   \n",
       "22421                   0.0            0.0            0.0  0.000000e+00   \n",
       "46674                   0.0            0.0            0.0  1.210000e+02   \n",
       "43737                   0.0            0.0            0.0  1.000000e+00   \n",
       "86759                   0.0            0.0            0.0  0.000000e+00   \n",
       "\n",
       "         tcp.ack_raw  ...  dns.qry.name.len-_googlecast._tcp.local  \\\n",
       "54750   3.537984e+09  ...                                        0   \n",
       "44691   1.458321e+09  ...                                        0   \n",
       "82590   1.368347e+08  ...                                        0   \n",
       "75875   1.588869e+09  ...                                        0   \n",
       "116271  0.000000e+00  ...                                        0   \n",
       "...              ...  ...                                      ...   \n",
       "109524  1.006093e+09  ...                                        0   \n",
       "22421   0.000000e+00  ...                                        0   \n",
       "46674   1.840877e+09  ...                                        0   \n",
       "43737   3.434128e+09  ...                                        0   \n",
       "86759   0.000000e+00  ...                                        0   \n",
       "\n",
       "        mqtt.conack.flags-0  mqtt.conack.flags-0.0  \\\n",
       "54750                     0                      1   \n",
       "44691                     0                      1   \n",
       "82590                     0                      1   \n",
       "75875                     0                      1   \n",
       "116271                    1                      0   \n",
       "...                     ...                    ...   \n",
       "109524                    1                      0   \n",
       "22421                     0                      1   \n",
       "46674                     0                      1   \n",
       "43737                     0                      1   \n",
       "86759                     0                      1   \n",
       "\n",
       "        mqtt.conack.flags-0x00000000  mqtt.protoname-0  mqtt.protoname-0.0  \\\n",
       "54750                              0                 0                   1   \n",
       "44691                              0                 0                   1   \n",
       "82590                              0                 0                   1   \n",
       "75875                              0                 0                   1   \n",
       "116271                             0                 1                   0   \n",
       "...                              ...               ...                 ...   \n",
       "109524                             0                 1                   0   \n",
       "22421                              0                 0                   1   \n",
       "46674                              0                 0                   1   \n",
       "43737                              0                 0                   1   \n",
       "86759                              0                 0                   1   \n",
       "\n",
       "        mqtt.protoname-MQTT  mqtt.topic-0  mqtt.topic-0.0  \\\n",
       "54750                     0             0               1   \n",
       "44691                     0             0               1   \n",
       "82590                     0             0               1   \n",
       "75875                     0             0               1   \n",
       "116271                    0             1               0   \n",
       "...                     ...           ...             ...   \n",
       "109524                    0             1               0   \n",
       "22421                     0             0               1   \n",
       "46674                     0             0               1   \n",
       "43737                     0             0               1   \n",
       "86759                     0             0               1   \n",
       "\n",
       "        mqtt.topic-Temperature_and_Humidity  \n",
       "54750                                     0  \n",
       "44691                                     0  \n",
       "82590                                     0  \n",
       "75875                                     0  \n",
       "116271                                    0  \n",
       "...                                     ...  \n",
       "109524                                    0  \n",
       "22421                                     0  \n",
       "46674                                     0  \n",
       "43737                                     0  \n",
       "86759                                     0  \n",
       "\n",
       "[152196 rows x 76 columns]"
      ]
     },
     "execution_count": 5,
     "metadata": {},
     "output_type": "execute_result"
    }
   ],
   "source": [
    "df"
   ]
  },
  {
   "cell_type": "code",
   "execution_count": 6,
   "metadata": {},
   "outputs": [],
   "source": [
    "df = df[~(df['Attack_type'] == 'DDoS_HTTP')]"
   ]
  },
  {
   "cell_type": "code",
   "execution_count": 7,
   "metadata": {},
   "outputs": [],
   "source": [
    "df = df[~(df['Attack_type'] == 'DDoS_TCP')]"
   ]
  },
  {
   "cell_type": "code",
   "execution_count": 8,
   "metadata": {},
   "outputs": [],
   "source": [
    "df = df[~(df['Attack_type'] == 'Fingerprinting')]\n",
    "df = df[~(df['Attack_type'] == 'Password')]\n",
    "df = df[~(df['Attack_type'] == 'Uploading')]\n",
    "df = df[~(df['Attack_type'] == 'Backdoor')]"
   ]
  },
  {
   "cell_type": "code",
   "execution_count": 9,
   "metadata": {},
   "outputs": [
    {
     "data": {
      "text/plain": [
       "Normal                   24101\n",
       "DDoS_UDP                 14498\n",
       "DDoS_ICMP                13096\n",
       "SQL_injection            10282\n",
       "Vulnerability_scanner    10062\n",
       "Ransomware                9689\n",
       "XSS                       9543\n",
       "Port_Scanning             8921\n",
       "MITM                       358\n",
       "Name: Attack_type, dtype: int64"
      ]
     },
     "execution_count": 9,
     "metadata": {},
     "output_type": "execute_result"
    }
   ],
   "source": [
    "df['Attack_type'].value_counts()"
   ]
  },
  {
   "cell_type": "code",
   "execution_count": 10,
   "metadata": {},
   "outputs": [
    {
     "name": "stdout",
     "output_type": "stream",
     "text": [
      "<class 'pandas.core.frame.DataFrame'>\n",
      "Int64Index: 100550 entries, 82590 to 109524\n",
      "Data columns (total 76 columns):\n",
      " #   Column                                                                             Non-Null Count   Dtype  \n",
      "---  ------                                                                             --------------   -----  \n",
      " 0   arp.opcode                                                                         100550 non-null  float64\n",
      " 1   arp.hw.size                                                                        100550 non-null  float64\n",
      " 2   icmp.checksum                                                                      100550 non-null  float64\n",
      " 3   icmp.seq_le                                                                        100550 non-null  float64\n",
      " 4   icmp.unused                                                                        100550 non-null  float64\n",
      " 5   http.content_length                                                                100550 non-null  float64\n",
      " 6   http.response                                                                      100550 non-null  float64\n",
      " 7   http.tls_port                                                                      100550 non-null  float64\n",
      " 8   tcp.ack                                                                            100550 non-null  float64\n",
      " 9   tcp.ack_raw                                                                        100550 non-null  float64\n",
      " 10  tcp.checksum                                                                       100550 non-null  float64\n",
      " 11  tcp.connection.fin                                                                 100550 non-null  float64\n",
      " 12  tcp.connection.rst                                                                 100550 non-null  float64\n",
      " 13  tcp.connection.syn                                                                 100550 non-null  float64\n",
      " 14  tcp.connection.synack                                                              100550 non-null  float64\n",
      " 15  tcp.flags                                                                          100550 non-null  float64\n",
      " 16  tcp.flags.ack                                                                      100550 non-null  float64\n",
      " 17  tcp.len                                                                            100550 non-null  float64\n",
      " 18  tcp.seq                                                                            100550 non-null  float64\n",
      " 19  udp.stream                                                                         100550 non-null  float64\n",
      " 20  udp.time_delta                                                                     100550 non-null  float64\n",
      " 21  dns.qry.name                                                                       100550 non-null  float64\n",
      " 22  dns.qry.qu                                                                         100550 non-null  float64\n",
      " 23  dns.qry.type                                                                       100550 non-null  float64\n",
      " 24  dns.retransmission                                                                 100550 non-null  float64\n",
      " 25  dns.retransmit_request                                                             100550 non-null  float64\n",
      " 26  dns.retransmit_request_in                                                          100550 non-null  float64\n",
      " 27  mqtt.conflag.cleansess                                                             100550 non-null  float64\n",
      " 28  mqtt.conflags                                                                      100550 non-null  float64\n",
      " 29  mqtt.hdrflags                                                                      100550 non-null  float64\n",
      " 30  mqtt.len                                                                           100550 non-null  float64\n",
      " 31  mqtt.msg_decoded_as                                                                100550 non-null  float64\n",
      " 32  mqtt.msgtype                                                                       100550 non-null  float64\n",
      " 33  mqtt.proto_len                                                                     100550 non-null  float64\n",
      " 34  mqtt.topic_len                                                                     100550 non-null  float64\n",
      " 35  mqtt.ver                                                                           100550 non-null  float64\n",
      " 36  mbtcp.len                                                                          100550 non-null  float64\n",
      " 37  mbtcp.trans_id                                                                     100550 non-null  float64\n",
      " 38  mbtcp.unit_id                                                                      100550 non-null  float64\n",
      " 39  Attack_label                                                                       100550 non-null  int64  \n",
      " 40  Attack_type                                                                        100550 non-null  object \n",
      " 41  http.request.method-0                                                              100550 non-null  uint8  \n",
      " 42  http.request.method-0.0                                                            100550 non-null  uint8  \n",
      " 43  http.request.method-GET                                                            100550 non-null  uint8  \n",
      " 44  http.request.method-OPTIONS                                                        100550 non-null  uint8  \n",
      " 45  http.request.method-POST                                                           100550 non-null  uint8  \n",
      " 46  http.request.method-TRACE                                                          100550 non-null  uint8  \n",
      " 47  http.referer-() { _; } >_[$($())] { echo 93e4r0-CVE-2014-6278: true; echo;echo; }  100550 non-null  uint8  \n",
      " 48  http.referer-0                                                                     100550 non-null  uint8  \n",
      " 49  http.referer-0.0                                                                   100550 non-null  uint8  \n",
      " 50  http.referer-127.0.0.1                                                             100550 non-null  uint8  \n",
      " 51  http.request.version--a HTTP/1.1                                                   100550 non-null  uint8  \n",
      " 52  http.request.version-/etc/passwd|?data=Download HTTP/1.1                           100550 non-null  uint8  \n",
      " 53  http.request.version-0                                                             100550 non-null  uint8  \n",
      " 54  http.request.version-0.0                                                           100550 non-null  uint8  \n",
      " 55  http.request.version-By Dr HTTP/1.1                                                100550 non-null  uint8  \n",
      " 56  http.request.version-HTTP/1.0                                                      100550 non-null  uint8  \n",
      " 57  http.request.version-HTTP/1.1                                                      100550 non-null  uint8  \n",
      " 58  http.request.version-Src=javascript:alert('Vulnerable')><Img Src=\\\" HTTP/1.1       100550 non-null  uint8  \n",
      " 59  dns.qry.name.len-0                                                                 100550 non-null  uint8  \n",
      " 60  dns.qry.name.len-0.0                                                               100550 non-null  uint8  \n",
      " 61  dns.qry.name.len-0.debian.pool.ntp.org                                             100550 non-null  uint8  \n",
      " 62  dns.qry.name.len-1.0                                                               100550 non-null  uint8  \n",
      " 63  dns.qry.name.len-1.debian.pool.ntp.org                                             100550 non-null  uint8  \n",
      " 64  dns.qry.name.len-2.debian.pool.ntp.org                                             100550 non-null  uint8  \n",
      " 65  dns.qry.name.len-3.debian.pool.ntp.org                                             100550 non-null  uint8  \n",
      " 66  dns.qry.name.len-_googlecast._tcp.local                                            100550 non-null  uint8  \n",
      " 67  mqtt.conack.flags-0                                                                100550 non-null  uint8  \n",
      " 68  mqtt.conack.flags-0.0                                                              100550 non-null  uint8  \n",
      " 69  mqtt.conack.flags-0x00000000                                                       100550 non-null  uint8  \n",
      " 70  mqtt.protoname-0                                                                   100550 non-null  uint8  \n",
      " 71  mqtt.protoname-0.0                                                                 100550 non-null  uint8  \n",
      " 72  mqtt.protoname-MQTT                                                                100550 non-null  uint8  \n",
      " 73  mqtt.topic-0                                                                       100550 non-null  uint8  \n",
      " 74  mqtt.topic-0.0                                                                     100550 non-null  uint8  \n",
      " 75  mqtt.topic-Temperature_and_Humidity                                                100550 non-null  uint8  \n",
      "dtypes: float64(39), int64(1), object(1), uint8(35)\n",
      "memory usage: 35.6+ MB\n"
     ]
    }
   ],
   "source": [
    "df.info()"
   ]
  },
  {
   "cell_type": "code",
   "execution_count": 11,
   "metadata": {},
   "outputs": [
    {
     "data": {
      "text/plain": [
       "['arp.opcode',\n",
       " 'arp.hw.size',\n",
       " 'icmp.checksum',\n",
       " 'icmp.seq_le',\n",
       " 'icmp.unused',\n",
       " 'http.content_length',\n",
       " 'http.response',\n",
       " 'http.tls_port',\n",
       " 'tcp.ack',\n",
       " 'tcp.ack_raw',\n",
       " 'tcp.checksum',\n",
       " 'tcp.connection.fin',\n",
       " 'tcp.connection.rst',\n",
       " 'tcp.connection.syn',\n",
       " 'tcp.connection.synack',\n",
       " 'tcp.flags',\n",
       " 'tcp.flags.ack',\n",
       " 'tcp.len',\n",
       " 'tcp.seq',\n",
       " 'udp.stream',\n",
       " 'udp.time_delta',\n",
       " 'dns.qry.name',\n",
       " 'dns.qry.qu',\n",
       " 'dns.qry.type',\n",
       " 'dns.retransmission',\n",
       " 'dns.retransmit_request',\n",
       " 'dns.retransmit_request_in',\n",
       " 'mqtt.conflag.cleansess',\n",
       " 'mqtt.conflags',\n",
       " 'mqtt.hdrflags',\n",
       " 'mqtt.len',\n",
       " 'mqtt.msg_decoded_as',\n",
       " 'mqtt.msgtype',\n",
       " 'mqtt.proto_len',\n",
       " 'mqtt.topic_len',\n",
       " 'mqtt.ver',\n",
       " 'mbtcp.len',\n",
       " 'mbtcp.trans_id',\n",
       " 'mbtcp.unit_id',\n",
       " 'Attack_label',\n",
       " 'http.request.method-0',\n",
       " 'http.request.method-0.0',\n",
       " 'http.request.method-GET',\n",
       " 'http.request.method-OPTIONS',\n",
       " 'http.request.method-POST',\n",
       " 'http.request.method-TRACE',\n",
       " 'http.referer-() { _; } >_[$($())] { echo 93e4r0-CVE-2014-6278: true; echo;echo; }',\n",
       " 'http.referer-0',\n",
       " 'http.referer-0.0',\n",
       " 'http.referer-127.0.0.1',\n",
       " 'http.request.version--a HTTP/1.1',\n",
       " 'http.request.version-/etc/passwd|?data=Download HTTP/1.1',\n",
       " 'http.request.version-0',\n",
       " 'http.request.version-0.0',\n",
       " 'http.request.version-By Dr HTTP/1.1',\n",
       " 'http.request.version-HTTP/1.0',\n",
       " 'http.request.version-HTTP/1.1',\n",
       " 'http.request.version-Src=javascript:alert(\\'Vulnerable\\')><Img Src=\\\\\" HTTP/1.1',\n",
       " 'dns.qry.name.len-0',\n",
       " 'dns.qry.name.len-0.0',\n",
       " 'dns.qry.name.len-0.debian.pool.ntp.org',\n",
       " 'dns.qry.name.len-1.0',\n",
       " 'dns.qry.name.len-1.debian.pool.ntp.org',\n",
       " 'dns.qry.name.len-2.debian.pool.ntp.org',\n",
       " 'dns.qry.name.len-3.debian.pool.ntp.org',\n",
       " 'dns.qry.name.len-_googlecast._tcp.local',\n",
       " 'mqtt.conack.flags-0',\n",
       " 'mqtt.conack.flags-0.0',\n",
       " 'mqtt.conack.flags-0x00000000',\n",
       " 'mqtt.protoname-0',\n",
       " 'mqtt.protoname-0.0',\n",
       " 'mqtt.protoname-MQTT',\n",
       " 'mqtt.topic-0',\n",
       " 'mqtt.topic-0.0',\n",
       " 'mqtt.topic-Temperature_and_Humidity']"
      ]
     },
     "execution_count": 11,
     "metadata": {},
     "output_type": "execute_result"
    }
   ],
   "source": [
    "feat_cols = list(df.columns)\n",
    "label_col = \"Attack_type\"\n",
    "\n",
    "feat_cols.remove(label_col)\n",
    "feat_cols"
   ]
  },
  {
   "cell_type": "code",
   "execution_count": 12,
   "metadata": {},
   "outputs": [
    {
     "data": {
      "text/plain": [
       "75"
      ]
     },
     "execution_count": 12,
     "metadata": {},
     "output_type": "execute_result"
    }
   ],
   "source": [
    "len(feat_cols)"
   ]
  },
  {
   "cell_type": "code",
   "execution_count": 13,
   "metadata": {},
   "outputs": [
    {
     "data": {
      "text/plain": [
       "[]"
      ]
     },
     "execution_count": 13,
     "metadata": {},
     "output_type": "execute_result"
    }
   ],
   "source": [
    "empty_cols = [col for col in df.columns if df[col].isnull().all()]\n",
    "empty_cols"
   ]
  },
  {
   "cell_type": "code",
   "execution_count": 14,
   "metadata": {},
   "outputs": [],
   "source": [
    "from matplotlib import pyplot as plt\n",
    "import seaborn as sns"
   ]
  },
  {
   "cell_type": "code",
   "execution_count": 15,
   "metadata": {},
   "outputs": [],
   "source": [
    "skip_list = [\"icmp.unused\", \"http.tls_port\", \"dns.qry.type\", \"mqtt.msg_decoded_as\"]"
   ]
  },
  {
   "cell_type": "code",
   "execution_count": 16,
   "metadata": {},
   "outputs": [
    {
     "data": {
      "text/plain": [
       "0.0    100550\n",
       "Name: mqtt.msg_decoded_as, dtype: int64"
      ]
     },
     "execution_count": 16,
     "metadata": {},
     "output_type": "execute_result"
    }
   ],
   "source": [
    "df[skip_list[3]].value_counts()"
   ]
  },
  {
   "cell_type": "code",
   "execution_count": 17,
   "metadata": {},
   "outputs": [
    {
     "data": {
      "text/plain": [
       "['arp.opcode',\n",
       " 'arp.hw.size',\n",
       " 'icmp.checksum',\n",
       " 'icmp.seq_le',\n",
       " 'http.content_length',\n",
       " 'http.response',\n",
       " 'tcp.ack',\n",
       " 'tcp.ack_raw',\n",
       " 'tcp.checksum',\n",
       " 'tcp.connection.fin',\n",
       " 'tcp.connection.rst',\n",
       " 'tcp.connection.syn',\n",
       " 'tcp.connection.synack',\n",
       " 'tcp.flags',\n",
       " 'tcp.flags.ack',\n",
       " 'tcp.len',\n",
       " 'tcp.seq',\n",
       " 'udp.stream',\n",
       " 'udp.time_delta',\n",
       " 'dns.qry.name',\n",
       " 'dns.qry.qu',\n",
       " 'dns.retransmission',\n",
       " 'dns.retransmit_request',\n",
       " 'dns.retransmit_request_in',\n",
       " 'mqtt.conflag.cleansess',\n",
       " 'mqtt.conflags',\n",
       " 'mqtt.hdrflags',\n",
       " 'mqtt.len',\n",
       " 'mqtt.msgtype',\n",
       " 'mqtt.proto_len',\n",
       " 'mqtt.topic_len',\n",
       " 'mqtt.ver',\n",
       " 'mbtcp.len',\n",
       " 'mbtcp.trans_id',\n",
       " 'mbtcp.unit_id',\n",
       " 'Attack_label',\n",
       " 'http.request.method-0',\n",
       " 'http.request.method-0.0',\n",
       " 'http.request.method-GET',\n",
       " 'http.request.method-OPTIONS',\n",
       " 'http.request.method-POST',\n",
       " 'http.request.method-TRACE',\n",
       " 'http.referer-() { _; } >_[$($())] { echo 93e4r0-CVE-2014-6278: true; echo;echo; }',\n",
       " 'http.referer-0',\n",
       " 'http.referer-0.0',\n",
       " 'http.referer-127.0.0.1',\n",
       " 'http.request.version--a HTTP/1.1',\n",
       " 'http.request.version-/etc/passwd|?data=Download HTTP/1.1',\n",
       " 'http.request.version-0',\n",
       " 'http.request.version-0.0',\n",
       " 'http.request.version-By Dr HTTP/1.1',\n",
       " 'http.request.version-HTTP/1.0',\n",
       " 'http.request.version-HTTP/1.1',\n",
       " 'http.request.version-Src=javascript:alert(\\'Vulnerable\\')><Img Src=\\\\\" HTTP/1.1',\n",
       " 'dns.qry.name.len-0',\n",
       " 'dns.qry.name.len-0.0',\n",
       " 'dns.qry.name.len-0.debian.pool.ntp.org',\n",
       " 'dns.qry.name.len-1.0',\n",
       " 'dns.qry.name.len-1.debian.pool.ntp.org',\n",
       " 'dns.qry.name.len-2.debian.pool.ntp.org',\n",
       " 'dns.qry.name.len-3.debian.pool.ntp.org',\n",
       " 'dns.qry.name.len-_googlecast._tcp.local',\n",
       " 'mqtt.conack.flags-0',\n",
       " 'mqtt.conack.flags-0.0',\n",
       " 'mqtt.conack.flags-0x00000000',\n",
       " 'mqtt.protoname-0',\n",
       " 'mqtt.protoname-0.0',\n",
       " 'mqtt.protoname-MQTT',\n",
       " 'mqtt.topic-0',\n",
       " 'mqtt.topic-0.0',\n",
       " 'mqtt.topic-Temperature_and_Humidity']"
      ]
     },
     "execution_count": 17,
     "metadata": {},
     "output_type": "execute_result"
    }
   ],
   "source": [
    "df.drop(skip_list, axis=1, inplace=True)\n",
    "feat_cols = list(df.columns)\n",
    "feat_cols.remove(label_col)\n",
    "feat_cols"
   ]
  },
  {
   "cell_type": "code",
   "execution_count": 18,
   "metadata": {},
   "outputs": [],
   "source": [
    "X = df.drop([label_col], axis=1)\n",
    "y = df[label_col]\n",
    "\n",
    "del df"
   ]
  },
  {
   "cell_type": "code",
   "execution_count": 19,
   "metadata": {},
   "outputs": [],
   "source": [
    "from sklearn.model_selection import train_test_split\n",
    "\n",
    "X_train, X_test, y_train, y_test = train_test_split(X, y, test_size=0.2, random_state=1, stratify=y)\n",
    "\n",
    "del X\n",
    "del y"
   ]
  },
  {
   "cell_type": "code",
   "execution_count": 20,
   "metadata": {},
   "outputs": [],
   "source": [
    "from sklearn.preprocessing import LabelEncoder\n",
    "\n",
    "\n",
    "label_encoder = LabelEncoder()\n",
    "y_train =  label_encoder.fit_transform(y_train)\n",
    "y_test = label_encoder.transform(y_test)"
   ]
  },
  {
   "cell_type": "code",
   "execution_count": 21,
   "metadata": {},
   "outputs": [
    {
     "data": {
      "text/plain": [
       "array(['DDoS_ICMP', 'DDoS_UDP', 'MITM', 'Normal', 'Port_Scanning',\n",
       "       'Ransomware', 'SQL_injection', 'Vulnerability_scanner', 'XSS'],\n",
       "      dtype=object)"
      ]
     },
     "execution_count": 21,
     "metadata": {},
     "output_type": "execute_result"
    }
   ],
   "source": [
    "label_encoder.classes_"
   ]
  },
  {
   "cell_type": "code",
   "execution_count": 22,
   "metadata": {},
   "outputs": [],
   "source": [
    "from sklearn.preprocessing import MinMaxScaler\n",
    "\n",
    "min_max_scaler = MinMaxScaler()\n",
    "X_train =  min_max_scaler.fit_transform(X_train)\n",
    "X_test = min_max_scaler.transform(X_test)"
   ]
  },
  {
   "cell_type": "code",
   "execution_count": 23,
   "metadata": {},
   "outputs": [],
   "source": [
    "%load_ext tensorboard\n",
    "from datetime import datetime\n",
    "from packaging import version\n",
    "from tensorflow import keras\n",
    "from tensorflow.keras import layers"
   ]
  },
  {
   "cell_type": "code",
   "execution_count": 24,
   "metadata": {},
   "outputs": [],
   "source": [
    "logdir = \"logs/scalars/\" + datetime.now().strftime(\"%Y%m%d-%H%M%S\")\n",
    "tensorboard_callback = keras.callbacks.TensorBoard(log_dir=logdir)"
   ]
  },
  {
   "cell_type": "code",
   "execution_count": 25,
   "metadata": {},
   "outputs": [],
   "source": [
    "\n",
    "model = keras.Sequential([\n",
    "    keras.layers.Dense(256, input_shape=(71,), activation='relu'),\n",
    "    keras.layers.Dense(128, activation='relu'),\n",
    "    keras.layers.Dense(64,activation='relu'),\n",
    "    keras.layers.Dense(32, activation='relu'),\n",
    "    keras.layers.Dense(9, activation='softmax')\n",
    "])"
   ]
  },
  {
   "cell_type": "code",
   "execution_count": 26,
   "metadata": {},
   "outputs": [],
   "source": [
    "model.save_weights('./checkpoints/') # to save weights in the middle of a session"
   ]
  },
  {
   "cell_type": "code",
   "execution_count": 27,
   "metadata": {},
   "outputs": [],
   "source": [
    "# Compiling the model\n",
    "model.compile(optimizer='adam',\n",
    "              loss=keras.losses.SparseCategoricalCrossentropy(),\n",
    "              metrics=['accuracy'])"
   ]
  },
  {
   "cell_type": "code",
   "execution_count": 28,
   "metadata": {},
   "outputs": [
    {
     "data": {
      "text/plain": [
       "array([0, 1, 2, 3, 4, 5, 6, 7, 8])"
      ]
     },
     "execution_count": 28,
     "metadata": {},
     "output_type": "execute_result"
    }
   ],
   "source": [
    "np.unique(y_train)"
   ]
  },
  {
   "cell_type": "code",
   "execution_count": 29,
   "metadata": {},
   "outputs": [],
   "source": [
    "#fitting the model\n",
    "training_history = model.fit(X_train, y_train, epochs=100, batch_size=256,verbose=0,validation_data=(X_test, y_test),\n",
    "    callbacks=[tensorboard_callback])\n",
    "\n",
    "# from keras import callbacks\n",
    "# earlystopping = callbacks.EarlyStopping(monitor=\"val_loss\",\n",
    "# \t\t\t\t\t\t\t\t\t\tmode=\"min\", patience=0,\n",
    "# \t\t\t\t\t\t\t\t\t\trestore_best_weights=True)\n",
    "\n",
    "# history = model.fit(X_train, y_train, batch_size=256,\n",
    "# \t\t\t\t\tepochs=50, validation_data=(X_test, y_test),\n",
    "# \t\t\t\t\tcallbacks=[earlystopping])\n"
   ]
  },
  {
   "cell_type": "code",
   "execution_count": 30,
   "metadata": {},
   "outputs": [
    {
     "name": "stdout",
     "output_type": "stream",
     "text": [
      "Average test loss:  0.0828935045003891\n"
     ]
    }
   ],
   "source": [
    "print(\"Average test loss: \", np.average(training_history.history['loss']))"
   ]
  },
  {
   "cell_type": "code",
   "execution_count": 31,
   "metadata": {},
   "outputs": [
    {
     "data": {
      "text/plain": [
       "[0.2425527572631836,\n",
       " 0.10423126816749573,\n",
       " 0.10075387358665466,\n",
       " 0.09831558167934418,\n",
       " 0.09744317829608917,\n",
       " 0.09697166830301285,\n",
       " 0.09691125899553299,\n",
       " 0.0958891212940216,\n",
       " 0.09490944445133209,\n",
       " 0.09444039314985275,\n",
       " 0.09469665586948395,\n",
       " 0.09425649046897888,\n",
       " 0.09441138058900833,\n",
       " 0.0942162349820137,\n",
       " 0.09376274049282074,\n",
       " 0.09387316554784775,\n",
       " 0.09361898899078369,\n",
       " 0.09310990571975708,\n",
       " 0.0932857096195221,\n",
       " 0.09318333119153976,\n",
       " 0.09411066025495529,\n",
       " 0.09183827042579651,\n",
       " 0.09229184687137604,\n",
       " 0.09156813472509384,\n",
       " 0.09209249168634415,\n",
       " 0.09067918360233307,\n",
       " 0.08946046233177185,\n",
       " 0.08821391314268112,\n",
       " 0.0864640474319458,\n",
       " 0.0839255228638649,\n",
       " 0.08351488411426544,\n",
       " 0.08113657683134079,\n",
       " 0.08556295186281204,\n",
       " 0.08212482184171677,\n",
       " 0.07987794280052185,\n",
       " 0.08155310153961182,\n",
       " 0.08063172549009323,\n",
       " 0.07978669553995132,\n",
       " 0.08054398000240326,\n",
       " 0.07868153601884842,\n",
       " 0.07875735312700272,\n",
       " 0.07996249943971634,\n",
       " 0.0798298791050911,\n",
       " 0.07793740183115005,\n",
       " 0.07931544631719589,\n",
       " 0.0793657898902893,\n",
       " 0.07831316441297531,\n",
       " 0.07863401621580124,\n",
       " 0.07852602005004883,\n",
       " 0.07754743844270706,\n",
       " 0.07926806807518005,\n",
       " 0.07921730726957321,\n",
       " 0.07813107967376709,\n",
       " 0.07774888724088669,\n",
       " 0.07728686928749084,\n",
       " 0.07704109698534012,\n",
       " 0.07599307596683502,\n",
       " 0.0772690623998642,\n",
       " 0.07548792660236359,\n",
       " 0.07564642280340195,\n",
       " 0.07562454044818878,\n",
       " 0.07975734025239944,\n",
       " 0.0777810588479042,\n",
       " 0.07551760971546173,\n",
       " 0.07678188383579254,\n",
       " 0.0755259320139885,\n",
       " 0.07516077905893326,\n",
       " 0.07552751153707504,\n",
       " 0.07703198492527008,\n",
       " 0.0757543295621872,\n",
       " 0.0736466497182846,\n",
       " 0.0755605548620224,\n",
       " 0.07507926225662231,\n",
       " 0.0738825872540474,\n",
       " 0.07489277422428131,\n",
       " 0.07473496347665787,\n",
       " 0.0715697780251503,\n",
       " 0.07238440215587616,\n",
       " 0.07560627162456512,\n",
       " 0.07342639565467834,\n",
       " 0.07254546135663986,\n",
       " 0.07207974046468735,\n",
       " 0.07416633516550064,\n",
       " 0.07442765682935715,\n",
       " 0.07480893284082413,\n",
       " 0.07287617027759552,\n",
       " 0.07289343327283859,\n",
       " 0.07177801430225372,\n",
       " 0.07231111824512482,\n",
       " 0.07270283997058868,\n",
       " 0.07029861956834793,\n",
       " 0.07508216798305511,\n",
       " 0.07340429723262787,\n",
       " 0.07111423462629318,\n",
       " 0.07224582135677338,\n",
       " 0.07422091066837311,\n",
       " 0.07114364206790924,\n",
       " 0.07089445739984512,\n",
       " 0.0700019970536232,\n",
       " 0.068937286734581]"
      ]
     },
     "execution_count": 31,
     "metadata": {},
     "output_type": "execute_result"
    }
   ],
   "source": [
    "training_history.history['loss']"
   ]
  },
  {
   "cell_type": "code",
   "execution_count": 32,
   "metadata": {},
   "outputs": [
    {
     "data": {
      "text/plain": [
       "Reusing TensorBoard on port 6006 (pid 17036), started 3 days, 10:48:37 ago. (Use '!kill 17036' to kill it.)"
      ]
     },
     "metadata": {},
     "output_type": "display_data"
    },
    {
     "data": {
      "text/html": [
       "\n",
       "      <iframe id=\"tensorboard-frame-8bed664506ea1de6\" width=\"100%\" height=\"800\" frameborder=\"0\">\n",
       "      </iframe>\n",
       "      <script>\n",
       "        (function() {\n",
       "          const frame = document.getElementById(\"tensorboard-frame-8bed664506ea1de6\");\n",
       "          const url = new URL(\"http://localhost\");\n",
       "          const port = 6006;\n",
       "          if (port) {\n",
       "            url.port = port;\n",
       "          }\n",
       "          frame.src = url;\n",
       "        })();\n",
       "      </script>\n",
       "    "
      ],
      "text/plain": [
       "<IPython.core.display.HTML object>"
      ]
     },
     "metadata": {},
     "output_type": "display_data"
    }
   ],
   "source": [
    "%tensorboard --logdir logs/scalars"
   ]
  },
  {
   "cell_type": "code",
   "execution_count": 33,
   "metadata": {},
   "outputs": [
    {
     "name": "stdout",
     "output_type": "stream",
     "text": [
      "INFO:tensorflow:Assets written to: Weights/Model_1\\assets\n"
     ]
    }
   ],
   "source": [
    "model.save('Weights/Model_1')  # to save weights as an entire weights"
   ]
  },
  {
   "cell_type": "code",
   "execution_count": 34,
   "metadata": {},
   "outputs": [
    {
     "name": "stdout",
     "output_type": "stream",
     "text": [
      "79/79 [==============================] - 0s 2ms/step - loss: 0.0668 - accuracy: 0.9772\n"
     ]
    },
    {
     "data": {
      "text/plain": [
       "[0.06678266823291779, 0.9772252440452576]"
      ]
     },
     "execution_count": 34,
     "metadata": {},
     "output_type": "execute_result"
    }
   ],
   "source": [
    "model.evaluate(X_test, y_test,256)"
   ]
  },
  {
   "cell_type": "code",
   "execution_count": 35,
   "metadata": {},
   "outputs": [
    {
     "data": {
      "text/plain": [
       "array([3, 3, 8, ..., 1, 8, 3], dtype=int64)"
      ]
     },
     "execution_count": 35,
     "metadata": {},
     "output_type": "execute_result"
    }
   ],
   "source": [
    "y_pred = model.predict(X_test,256)\n",
    "y_pred = np.argmax(y_pred,axis = 1)\n",
    "y_pred"
   ]
  },
  {
   "cell_type": "code",
   "execution_count": 36,
   "metadata": {},
   "outputs": [
    {
     "data": {
      "text/plain": [
       "0.9772252610641472"
      ]
     },
     "execution_count": 36,
     "metadata": {},
     "output_type": "execute_result"
    }
   ],
   "source": [
    "from sklearn.metrics import accuracy_score\n",
    "accuracy_score(y_test, y_pred)"
   ]
  },
  {
   "cell_type": "code",
   "execution_count": 37,
   "metadata": {},
   "outputs": [
    {
     "name": "stdout",
     "output_type": "stream",
     "text": [
      "[[2619    0    0    0    0    0    0    0    0]\n",
      " [   0 2900    0    0    0    0    0    0    0]\n",
      " [   0    0   72    0    0    0    0    0    0]\n",
      " [   0    0    0 4820    0    0    0    0    0]\n",
      " [   0    0    0    0 1782    2    0    0    0]\n",
      " [   0    0    0    0   64 1874    0    0    0]\n",
      " [   0    0    0    0    0    0 2056    0    0]\n",
      " [   0    0    0    0    0    0    0 1741  271]\n",
      " [   0    0    0    0    0    0    0  121 1788]]\n"
     ]
    }
   ],
   "source": [
    "from sklearn.metrics import confusion_matrix  \n",
    "cm= confusion_matrix(y_test, y_pred)  \n",
    "print(cm)"
   ]
  },
  {
   "cell_type": "code",
   "execution_count": 38,
   "metadata": {},
   "outputs": [
    {
     "name": "stdout",
     "output_type": "stream",
     "text": [
      "Confusion Matrix\n"
     ]
    },
    {
     "data": {
      "text/plain": [
       "<AxesSubplot:>"
      ]
     },
     "execution_count": 38,
     "metadata": {},
     "output_type": "execute_result"
    },
    {
     "data": {
      "image/png": "[encoded data removed]",
      "text/plain": [
       "<Figure size 1000x700 with 2 Axes>"
      ]
     },
     "metadata": {},
     "output_type": "display_data"
    }
   ],
   "source": [
    "print(\"Confusion Matrix\")\n",
    "cm = confusion_matrix(y_test, y_pred)\n",
    "cm = cm.astype('float') / cm.sum(axis=1)[:, np.newaxis]\n",
    "df_cm = pd.DataFrame(cm, index = [i for i in label_encoder.classes_],\n",
    "                    columns = [i for i in label_encoder.classes_])\n",
    "plt.figure(figsize = (10,7))\n",
    "sns.heatmap(df_cm, annot=True)"
   ]
  },
  {
   "cell_type": "code",
   "execution_count": 39,
   "metadata": {},
   "outputs": [
    {
     "data": {
      "text/plain": [
       "0.9778258788973899"
      ]
     },
     "execution_count": 39,
     "metadata": {},
     "output_type": "execute_result"
    }
   ],
   "source": [
    "from sklearn.metrics import precision_score\n",
    "precision_score(y_test,y_pred,average='weighted')"
   ]
  },
  {
   "cell_type": "code",
   "execution_count": 40,
   "metadata": {},
   "outputs": [
    {
     "data": {
      "text/plain": [
       "0.9772252610641472"
      ]
     },
     "execution_count": 40,
     "metadata": {},
     "output_type": "execute_result"
    }
   ],
   "source": [
    "from sklearn.metrics import recall_score\n",
    "recall_score(y_test,y_pred, average='weighted')"
   ]
  },
  {
   "cell_type": "code",
   "execution_count": 41,
   "metadata": {},
   "outputs": [
    {
     "data": {
      "text/plain": [
       "0.9772176733286734"
      ]
     },
     "execution_count": 41,
     "metadata": {},
     "output_type": "execute_result"
    }
   ],
   "source": [
    "from sklearn.metrics import f1_score\n",
    "f1_score(y_test,y_pred, average='weighted')"
   ]
  },
  {
   "cell_type": "code",
   "execution_count": 64,
   "metadata": {},
   "outputs": [
    {
     "name": "stdout",
     "output_type": "stream",
     "text": [
      "Saved model to disk\n"
     ]
    }
   ],
   "source": [
    "# serialize model to JSON\n",
    "model_json = model.to_json()\n",
    "with open(\"model.json\", \"w\") as json_file:\n",
    "    json_file.write(model_json)\n",
    "# serialize weights to HDF5\n",
    "model.save_weights(\"model.h5\")\n",
    "print(\"Saved model to disk\")"
   ]
  },
  {
   "cell_type": "code",
   "execution_count": null,
   "metadata": {},
   "outputs": [],
   "source": []
  }
 ],
 "metadata": {
  "kernelspec": {
   "display_name": "Python 3",
   "language": "python",
   "name": "python3"
  },
  "language_info": {
   "codemirror_mode": {
    "name": "ipython",
    "version": 3
   },
   "file_extension": ".py",
   "mimetype": "text/x-python",
   "name": "python",
   "nbconvert_exporter": "python",
   "pygments_lexer": "ipython3",
   "version": "3.9.5 (tags/v3.9.5:0a7dcbd, May  3 2021, 17:27:52) [MSC v.1928 64 bit (AMD64)]"
  },
  "orig_nbformat": 4,
  "vscode": {
   "interpreter": {
    "hash": "b94bb67250e74e1b8d66d001fcdbb29488e965bf3a4ce564a26af5eb359d46e7"
   }
  }
 },
 "nbformat": 4,
 "nbformat_minor": 2
}
